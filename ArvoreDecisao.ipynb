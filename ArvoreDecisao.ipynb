{
  "nbformat": 4,
  "nbformat_minor": 0,
  "metadata": {
    "colab": {
      "name": "ArvoreDecisao.ipynb",
      "provenance": [],
      "collapsed_sections": [],
      "authorship_tag": "ABX9TyNBK5moG+XtrKSeNSyuI7aN",
      "include_colab_link": true
    },
    "kernelspec": {
      "name": "python3",
      "display_name": "Python 3"
    },
    "language_info": {
      "name": "python"
    }
  },
  "cells": [
    {
      "cell_type": "markdown",
      "metadata": {
        "id": "view-in-github",
        "colab_type": "text"
      },
      "source": [
        "<a href=\"https://colab.research.google.com/github/ggzlemos/ArvoreDecisao/blob/main/ArvoreDecisao.ipynb\" target=\"_parent\"><img src=\"https://colab.research.google.com/assets/colab-badge.svg\" alt=\"Open In Colab\"/></a>"
      ]
    },
    {
      "cell_type": "markdown",
      "metadata": {
        "id": "ypDLQq9y5__o"
      },
      "source": [
        "##Este notebook implementa o algoritmo de árvore de decisão. Após a implementação, é feito um teste utilizando o wine dataset, disponibilizado pela biblioteca sklearn.\n",
        "\n",
        "##Esta atividade faz parte do treinamento básico do Hub de Inovação em Intligência Artifical (H2IA)"
      ]
    },
    {
      "cell_type": "code",
      "metadata": {
        "id": "bX80wiYpegv7"
      },
      "source": [
        "import numpy as np\n",
        "import pandas as pd\n",
        "from sklearn.datasets import load_wine\n",
        "from sklearn.model_selection import train_test_split"
      ],
      "execution_count": null,
      "outputs": []
    },
    {
      "cell_type": "markdown",
      "metadata": {
        "id": "HisPYHEJDPq4"
      },
      "source": [
        "###Nesta implementação, utiliza-se o método da entropia para calcular o ganho de informação dos nodos da árvore"
      ]
    },
    {
      "cell_type": "code",
      "metadata": {
        "id": "dt9l3hYEmpKx"
      },
      "source": [
        "def entropia(y):\n",
        "  occurences = np.bincount(y)\n",
        "  frac = occurences / len(y)\n",
        "  lista = []\n",
        "  for i in frac:\n",
        "    if i != 0:\n",
        "      lista.append(i *np.log2(i))\n",
        "  return -sum(lista)\n",
        "  "
      ],
      "execution_count": null,
      "outputs": []
    },
    {
      "cell_type": "markdown",
      "metadata": {
        "id": "lEeCdI-wDbup"
      },
      "source": [
        "###Classe que modela cada nodo da árvore"
      ]
    },
    {
      "cell_type": "code",
      "metadata": {
        "id": "yPp4gbkSvypg"
      },
      "source": [
        "class Nodo:\n",
        "\n",
        "  def __init__(self):\n",
        "    self.esquerda = None\n",
        "    self.direita = None\n",
        "    self.classe = None\n",
        "    self.atributo = None\n",
        "    self.threshold = None\n",
        " \n",
        "  def decide_classe(self, y): \n",
        "    counts = np.bincount(y)\n",
        "    self.classe = np.argmax(counts)\n",
        "\n",
        "  def set_esquerda(self, nodo):\n",
        "    self.esquerda = nodo\n",
        "\n",
        "  def set_direita(self, nodo):\n",
        "    self.direita = nodo \n",
        "\n",
        "  def get_classe(self):\n",
        "    return self.classe  \n"
      ],
      "execution_count": null,
      "outputs": []
    },
    {
      "cell_type": "markdown",
      "metadata": {
        "id": "T_ut4hkUDgzQ"
      },
      "source": [
        "###Classe da árvore de decisão"
      ]
    },
    {
      "cell_type": "code",
      "metadata": {
        "id": "h34dlcVq7EIx"
      },
      "source": [
        "class Arvore:\n",
        "\n",
        "  def __init__(self, max_depth=100, min_sample_split=2):\n",
        "    self.raiz = None\n",
        "    self.max_depth = max_depth\n",
        "    self.min_sample_split = min_sample_split\n",
        "\n",
        "  def fit(self, X, y):\n",
        "    self.raiz = self.grow_tree(X, y)    \n",
        "\n",
        "  def grow_tree(self, X, y, depth=0):\n",
        "    num_samples, atributos = X.shape\n",
        "    if depth > self.max_depth or len(np.unique(y)) == 1 or num_samples < self.min_sample_split:\n",
        "      nodo = Nodo()\n",
        "      nodo.decide_classe(y)\n",
        "      return nodo\n",
        " \n",
        "    attr, threshold = self.get_attr_thres(X, y)\n",
        "\n",
        "\n",
        "    #após, dividir em esquerda (menor ou igual) e direita\n",
        "    esq, dir = self.split(X[:, attr], threshold)\n",
        "    nodo_esq = self.grow_tree(X[esq, :], y[esq], depth+1)\n",
        "    nodo_dir = self.grow_tree(X[dir, :], y[dir], depth+1)\n",
        "\n",
        "    nodo = Nodo()\n",
        "    nodo.threshold = threshold\n",
        "    nodo.atributo = attr\n",
        "    nodo.set_esquerda(nodo_esq)\n",
        "    nodo.set_direita(nodo_dir)\n",
        "\n",
        "\n",
        "    return nodo\n",
        "\n",
        "  def get_attr_thres(self, X, y):\n",
        "    columns = X.shape[1]\n",
        "\n",
        "    #busca gulosa pelo melhor par (atributo, threshold)\n",
        "    best_gain = -1\n",
        "    best_attr = None\n",
        "    best_threshold = None\n",
        "\n",
        "\n",
        "    for atributo in range(columns):\n",
        "      coluna = X[:, atributo]     \n",
        "      coluna_unicos = np.unique(X[:, atributo])\n",
        "      for threshold in coluna_unicos:\n",
        "        esq, dir = self.split(coluna, threshold)\n",
        "\n",
        "        if len(esq) == 0 or len(dir) == 0:\n",
        "          gain = 0\n",
        "        else:  \n",
        "          gain = self.info_gain(y, esq, dir)\n",
        "\n",
        "        if gain > best_gain:\n",
        "          best_gain = gain\n",
        "          best_attr = atributo\n",
        "          best_threshold = threshold\n",
        "  \n",
        "    return best_attr, best_threshold\n",
        "\n",
        "  def info_gain(self, y, esquerda, direita):\n",
        "    entropia_pai = entropia(y)\n",
        "\n",
        "    entropia_esq = entropia(y[esquerda])\n",
        "    entropia_dir = entropia(y[direita])\n",
        "\n",
        "    somador = ((len(y[esquerda]) / len(y)) * entropia_esq + \n",
        "               (len(y[direita]) / len(y)) * entropia_dir)\n",
        "\n",
        "    ig = entropia_pai - somador\n",
        "\n",
        "    return ig\n",
        "\n",
        "  def split(self, X, threshold):\n",
        "\n",
        "    esq = np.argwhere(X <= threshold).flatten()\n",
        "    dir = np.argwhere(X > threshold).flatten()\n",
        "\n",
        "    return esq, dir\n",
        "\n",
        "  def predict(self, X):\n",
        "      results = []\n",
        "      for e in X:\n",
        "        classe = self.go_down_tree(e, self.raiz)\n",
        "        results.append(classe)   \n",
        "      return np.array(results)\n",
        "\n",
        "  def go_down_tree(self, x, nodo):\n",
        " \n",
        "      if nodo.esquerda == None and nodo.direita == None:      \n",
        "        a = nodo.get_classe()         \n",
        "        return a\n",
        "      \n",
        "      if x[nodo.atributo] <= nodo.threshold:\n",
        "        return self.go_down_tree(x, nodo.esquerda)\n",
        "      else:\n",
        "        return self.go_down_tree(x, nodo.direita)\n",
        "  "
      ],
      "execution_count": null,
      "outputs": []
    },
    {
      "cell_type": "markdown",
      "metadata": {
        "id": "2f7D4LBG51zv"
      },
      "source": [
        "###Teste com o dataset de vinhos"
      ]
    },
    {
      "cell_type": "code",
      "metadata": {
        "id": "mNKdJ7VtyOpw"
      },
      "source": [
        "wine = load_wine()\n",
        "X_train, X_test, y_train, y_test = train_test_split(wine.data, wine.target)\n",
        "\n",
        "clf_1 = Arvore()\n",
        "clf_1.fit(X_train, y_train)\n",
        "result = clf_1.predict(X_test)"
      ],
      "execution_count": null,
      "outputs": []
    },
    {
      "cell_type": "markdown",
      "metadata": {
        "id": "F82gjkKEDxtk"
      },
      "source": [
        "###Cálculo simplesda acurácia do modelo"
      ]
    },
    {
      "cell_type": "code",
      "metadata": {
        "colab": {
          "base_uri": "https://localhost:8080/"
        },
        "id": "4XLbRSM9zaWD",
        "outputId": "233511ac-3179-4ce1-fac0-36c15a338466"
      },
      "source": [
        "acuracia = np.sum(result == y_test) / len(y_test)\n",
        "acuracia"
      ],
      "execution_count": null,
      "outputs": [
        {
          "output_type": "execute_result",
          "data": {
            "text/plain": [
              "0.9111111111111111"
            ]
          },
          "metadata": {},
          "execution_count": 11
        }
      ]
    },
    {
      "cell_type": "markdown",
      "metadata": {
        "id": "Lgsc86P9EOse"
      },
      "source": [
        "###Referências utilizadas para o desenvolvimento deste notebook:\n",
        "\n",
        "[Aprendizado com árvores de decsião](https://ricardomatsumura.medium.com/aprendizado-com-%C3%A1rvores-de-decis%C3%A3o-73d874664d1)\n",
        "\n",
        "[Árvores de Decisão](http://web.tecnico.ulisboa.pt/ana.freitas/bioinformatics.ath.cx/bioinformatics.ath.cx/indexf23d.html?id)\n",
        "\n",
        "[ID3 Algorithm (Wiki)](https://en.wikipedia.org/wiki/ID3_algorithm)\n",
        "\n",
        "[Árvores de Decisão](https://edisciplinas.usp.br/pluginfile.php/4469825/mod_resource/content/1/ArvoresDecisao_normalsize.pdf)\n",
        "\n",
        "[StatsQuest - Decision Trees](https://www.youtube.com/watch?v=7VeUPuFGJHk)\n",
        "\n",
        "[Machine Learning from Scratch](https://www.youtube.com/watch?v=Bqi7EFFvNOg)\n"
      ]
    }
  ]
}